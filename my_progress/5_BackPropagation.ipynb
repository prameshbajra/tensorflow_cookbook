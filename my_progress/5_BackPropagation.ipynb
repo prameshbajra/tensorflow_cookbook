{
 "cells": [
  {
   "cell_type": "code",
   "execution_count": 68,
   "metadata": {
    "ExecuteTime": {
     "end_time": "2019-04-11T09:28:01.030406Z",
     "start_time": "2019-04-11T09:28:01.018962Z"
    }
   },
   "outputs": [],
   "source": [
    "import matplotlib.pyplot as plt\n",
    "import numpy as np\n",
    "import tensorflow as tf\n",
    "from tensorflow.python.framework import ops\n",
    "ops.reset_default_graph()"
   ]
  },
  {
   "cell_type": "code",
   "execution_count": 69,
   "metadata": {
    "ExecuteTime": {
     "end_time": "2019-04-11T09:28:01.071743Z",
     "start_time": "2019-04-11T09:28:01.034022Z"
    }
   },
   "outputs": [],
   "source": [
    "sess = tf.Session()"
   ]
  },
  {
   "cell_type": "code",
   "execution_count": 70,
   "metadata": {
    "ExecuteTime": {
     "end_time": "2019-04-11T09:28:01.111190Z",
     "start_time": "2019-04-11T09:28:01.073939Z"
    },
    "scrolled": true
   },
   "outputs": [
    {
     "name": "stdout",
     "output_type": "stream",
     "text": [
      "Input [0.9925246  1.00762279 0.95965104 1.22318753 0.88658361 0.98217497\n",
      " 1.13568541 1.03600108 1.05792979 1.0912665  1.14575097 0.89785649\n",
      " 0.87048598 1.04882462 0.95599735 1.1060013  0.93379846 1.06311047\n",
      " 1.01782012 0.78867647 0.85662303 1.06109909 1.12158118 1.239942\n",
      " 0.96581391 0.98231022 0.96857033 1.07781921 1.13033002 1.07612133\n",
      " 1.03123603 0.97346932 1.12994026 0.9981683  1.05467656 0.93030398\n",
      " 0.91107389 1.23583083 0.87704394 1.24400133 0.94903929 0.98000167\n",
      " 0.99640326 0.84383593 1.07378243 1.10358011 0.81294209 0.96694127\n",
      " 0.92221913 1.08565208 0.88221066 0.92793702 0.87672268 1.23815088\n",
      " 0.92731786 0.94908264 0.97477876 1.12922499 1.03211949 0.943662\n",
      " 1.02759922 0.88088229 1.12641509 1.06331175 0.93477118 1.22247804\n",
      " 1.09226905 1.10457969 1.10801052 0.96187264 0.91881118 0.97880008\n",
      " 1.0301261  1.18877749 0.94264121 0.98704684 0.99413018 1.05450745\n",
      " 1.01604804 0.98854341 0.91564097 1.05247041 0.93160228 0.97739231\n",
      " 1.06177462 1.00742696 1.04811345 0.96116766 0.73926568 1.06681974\n",
      " 1.12310281 1.00236195 0.96344954 0.88326433 0.94113495 0.84765455\n",
      " 1.07545771 1.02792936 1.00420173 1.15023118] \n",
      " [10 10 10 10 10 10 10 10 10 10 10 10 10 10 10 10 10 10 10 10 10 10 10 10\n",
      " 10 10 10 10 10 10 10 10 10 10 10 10 10 10 10 10 10 10 10 10 10 10 10 10\n",
      " 10 10 10 10 10 10 10 10 10 10 10 10 10 10 10 10 10 10 10 10 10 10 10 10\n",
      " 10 10 10 10 10 10 10 10 10 10 10 10 10 10 10 10 10 10 10 10 10 10 10 10\n",
      " 10 10 10 10]\n"
     ]
    }
   ],
   "source": [
    "x_vals = np.random.normal(1, 0.1, 100)\n",
    "y_vals = np.repeat(10, 100)\n",
    "x_data = tf.placeholder(shape=[1], dtype=tf.float32)\n",
    "y_target = tf.placeholder(shape=[1], dtype=tf.float32)\n",
    "\n",
    "print(f\"Input {x_vals} \\n {y_vals}\")"
   ]
  },
  {
   "cell_type": "code",
   "execution_count": 71,
   "metadata": {
    "ExecuteTime": {
     "end_time": "2019-04-11T09:28:01.191660Z",
     "start_time": "2019-04-11T09:28:01.114327Z"
    }
   },
   "outputs": [
    {
     "data": {
      "text/plain": [
       "<tf.Variable 'Variable:0' shape=(1,) dtype=float32_ref>"
      ]
     },
     "execution_count": 71,
     "metadata": {},
     "output_type": "execute_result"
    }
   ],
   "source": [
    "A = tf.Variable(tf.random_normal(shape=[1]))\n",
    "A"
   ]
  },
  {
   "cell_type": "code",
   "execution_count": 72,
   "metadata": {
    "ExecuteTime": {
     "end_time": "2019-04-11T09:28:01.227753Z",
     "start_time": "2019-04-11T09:28:01.194793Z"
    }
   },
   "outputs": [
    {
     "data": {
      "text/plain": [
       "<tf.Tensor 'Mul:0' shape=(1,) dtype=float32>"
      ]
     },
     "execution_count": 72,
     "metadata": {},
     "output_type": "execute_result"
    }
   ],
   "source": [
    "my_output = tf.multiply(x_data, A)\n",
    "my_output"
   ]
  },
  {
   "cell_type": "code",
   "execution_count": 73,
   "metadata": {
    "ExecuteTime": {
     "end_time": "2019-04-11T09:28:01.405042Z",
     "start_time": "2019-04-11T09:28:01.229340Z"
    }
   },
   "outputs": [],
   "source": [
    "init = tf.global_variables_initializer()\n",
    "sess.run(init)"
   ]
  },
  {
   "cell_type": "code",
   "execution_count": 74,
   "metadata": {
    "ExecuteTime": {
     "end_time": "2019-04-11T09:28:01.436154Z",
     "start_time": "2019-04-11T09:28:01.407676Z"
    }
   },
   "outputs": [
    {
     "data": {
      "text/plain": [
       "<tf.Tensor 'Square:0' shape=(1,) dtype=float32>"
      ]
     },
     "execution_count": 74,
     "metadata": {},
     "output_type": "execute_result"
    }
   ],
   "source": [
    "loss = tf.square(my_output - y_target)\n",
    "loss"
   ]
  },
  {
   "cell_type": "code",
   "execution_count": 75,
   "metadata": {
    "ExecuteTime": {
     "end_time": "2019-04-11T09:28:01.503516Z",
     "start_time": "2019-04-11T09:28:01.438093Z"
    }
   },
   "outputs": [],
   "source": [
    "my_opt = tf.train.GradientDescentOptimizer(0.02)\n",
    "train_step = my_opt.minimize(loss)"
   ]
  },
  {
   "cell_type": "code",
   "execution_count": 76,
   "metadata": {
    "ExecuteTime": {
     "end_time": "2019-04-11T09:28:01.592120Z",
     "start_time": "2019-04-11T09:28:01.505584Z"
    }
   },
   "outputs": [
    {
     "name": "stdout",
     "output_type": "stream",
     "text": [
      "Step #25 A = [6.476305]\n",
      "Loss = [14.025731]\n",
      "Step #50 A = [8.612637]\n",
      "Loss = [0.9466892]\n",
      "Step #75 A = [9.195265]\n",
      "Loss = [3.5639372]\n",
      "Step #100 A = [9.615707]\n",
      "Loss = [0.9031122]\n"
     ]
    }
   ],
   "source": [
    "# Run Loop\n",
    "for i in range(100):\n",
    "    rand_index = np.random.choice(100)\n",
    "    rand_x = [x_vals[rand_index]]\n",
    "    rand_y = [y_vals[rand_index]]\n",
    "    sess.run(train_step, feed_dict={x_data: rand_x, y_target: rand_y})\n",
    "    if (i+1)%25==0:\n",
    "        print('Step #' + str(i+1) + ' A = ' + str(sess.run(A)))\n",
    "        print('Loss = ' + str(sess.run(loss, feed_dict={x_data: rand_x, y_target: rand_y})))"
   ]
  },
  {
   "cell_type": "markdown",
   "metadata": {},
   "source": [
    "## Classification"
   ]
  },
  {
   "cell_type": "code",
   "execution_count": 98,
   "metadata": {
    "ExecuteTime": {
     "end_time": "2019-04-11T09:34:03.795422Z",
     "start_time": "2019-04-11T09:34:03.786229Z"
    }
   },
   "outputs": [],
   "source": [
    "ops.reset_default_graph()"
   ]
  },
  {
   "cell_type": "code",
   "execution_count": 99,
   "metadata": {
    "ExecuteTime": {
     "end_time": "2019-04-11T09:34:04.555404Z",
     "start_time": "2019-04-11T09:34:04.551210Z"
    }
   },
   "outputs": [],
   "source": [
    "sess = tf.Session()"
   ]
  },
  {
   "cell_type": "code",
   "execution_count": 100,
   "metadata": {
    "ExecuteTime": {
     "end_time": "2019-04-11T09:34:05.240057Z",
     "start_time": "2019-04-11T09:34:05.223606Z"
    },
    "scrolled": true
   },
   "outputs": [
    {
     "name": "stdout",
     "output_type": "stream",
     "text": [
      "[-0.73845031 -0.88716295 -1.41598943 -0.32436738 -1.42833049 -0.7717345\n",
      " -0.27145457 -0.7482583  -1.95514051  0.50352612  0.25786122  0.4836278\n",
      "  0.9800314  -1.17941933 -1.05062546 -2.20885903 -1.89791824 -2.89012264\n",
      " -1.34212608 -0.79629146 -2.74279226 -0.23138031 -2.00234338 -0.28436469\n",
      "  0.32605711 -0.41717333 -0.14878897 -1.55438261 -1.23634912 -0.57052365\n",
      " -0.50343464  0.16684584 -1.58815048  0.50389275  1.05901469  0.12820208\n",
      "  0.19155364  0.15301412 -2.26064177 -2.00146621  0.70358364 -0.54106304\n",
      " -0.74253107 -1.79488933 -2.97252826 -1.50527594 -1.07398037  0.02148612\n",
      " -0.0960337  -1.21225596  1.70465803  3.00209846  2.51568648  1.60407959\n",
      "  2.67979906  3.71683281  3.2535969   3.2611134   4.27350201  4.23083487\n",
      "  3.15882517  2.72426886  2.98748769  4.61937251  1.84823185  3.53897608\n",
      "  4.14535381  1.76608553  1.32005635  4.21641495  2.61955196  3.08528102\n",
      "  3.95185571  2.43807669  2.29337927  3.15052712  3.50289095  3.48727398\n",
      "  1.89459275  1.99285309  3.35209653  2.90090464  3.44366925  2.38394234\n",
      "  2.39745494  2.0425983   2.25793414  3.22105993  4.19874429  2.90885635\n",
      "  3.39350469  2.20479149  2.59495864  2.54650353  2.29115946  3.648798\n",
      "  1.32044045  2.38985011  2.46038733  2.08339467] \n",
      " \n",
      " [0 0 0 0 0 0 0 0 0 0 0 0 0 0 0 0 0 0 0 0 0 0 0 0 0 0 0 0 0 0 0 0 0 0 0 0 0\n",
      " 0 0 0 0 0 0 0 0 0 0 0 0 0 1 1 1 1 1 1 1 1 1 1 1 1 1 1 1 1 1 1 1 1 1 1 1 1\n",
      " 1 1 1 1 1 1 1 1 1 1 1 1 1 1 1 1 1 1 1 1 1 1 1 1 1 1]\n"
     ]
    }
   ],
   "source": [
    "x_vals = np.concatenate((np.random.normal(-1, 1, 50), np.random.normal(3, 1, 50)))\n",
    "y_vals = np.concatenate((np.repeat(0, 50), np.repeat(1, 50)))\n",
    "x_data = tf.placeholder(shape=[1], dtype=tf.float32)\n",
    "y_target = tf.placeholder(shape=[1], dtype=tf.float32)\n",
    "\n",
    "print(f\"{x_vals} \\n \\n {y_vals}\")"
   ]
  },
  {
   "cell_type": "code",
   "execution_count": 101,
   "metadata": {
    "ExecuteTime": {
     "end_time": "2019-04-11T09:34:06.314651Z",
     "start_time": "2019-04-11T09:34:06.294904Z"
    }
   },
   "outputs": [
    {
     "data": {
      "text/plain": [
       "<tf.Variable 'Variable:0' shape=(1,) dtype=float32_ref>"
      ]
     },
     "execution_count": 101,
     "metadata": {},
     "output_type": "execute_result"
    }
   ],
   "source": [
    "A = tf.Variable(tf.random_normal(mean=10, shape=[1]))\n",
    "A"
   ]
  },
  {
   "cell_type": "code",
   "execution_count": 102,
   "metadata": {
    "ExecuteTime": {
     "end_time": "2019-04-11T09:34:08.519816Z",
     "start_time": "2019-04-11T09:34:08.506674Z"
    }
   },
   "outputs": [
    {
     "data": {
      "text/plain": [
       "<tf.Tensor 'Add:0' shape=(1,) dtype=float32>"
      ]
     },
     "execution_count": 102,
     "metadata": {},
     "output_type": "execute_result"
    }
   ],
   "source": [
    "output = tf.add(x_data, A)\n",
    "output"
   ]
  },
  {
   "cell_type": "code",
   "execution_count": 103,
   "metadata": {
    "ExecuteTime": {
     "end_time": "2019-04-11T09:34:09.977080Z",
     "start_time": "2019-04-11T09:34:09.959632Z"
    }
   },
   "outputs": [
    {
     "name": "stdout",
     "output_type": "stream",
     "text": [
      "Tensor(\"ExpandDims:0\", shape=(1, 1), dtype=float32) \n",
      "\n",
      "Tensor(\"ExpandDims_1:0\", shape=(1, 1), dtype=float32)\n"
     ]
    }
   ],
   "source": [
    "my_output_expanded = tf.expand_dims(output, 0)\n",
    "y_target_expanded = tf.expand_dims(y_target, 0)\n",
    "\n",
    "print(f\"{my_output_expanded} \\n\\n{y_target_expanded}\")"
   ]
  },
  {
   "cell_type": "code",
   "execution_count": 104,
   "metadata": {
    "ExecuteTime": {
     "end_time": "2019-04-11T09:35:41.388387Z",
     "start_time": "2019-04-11T09:35:41.366241Z"
    }
   },
   "outputs": [
    {
     "data": {
      "text/plain": [
       "<tf.Tensor 'logistic_loss:0' shape=(1, 1) dtype=float32>"
      ]
     },
     "execution_count": 104,
     "metadata": {},
     "output_type": "execute_result"
    }
   ],
   "source": [
    "cross_entropy = tf.nn.sigmoid_cross_entropy_with_logits(logits=my_output_expanded, labels=y_target_expanded)\n",
    "cross_entropy"
   ]
  },
  {
   "cell_type": "code",
   "execution_count": 105,
   "metadata": {
    "ExecuteTime": {
     "end_time": "2019-04-11T09:35:42.052443Z",
     "start_time": "2019-04-11T09:35:41.990503Z"
    }
   },
   "outputs": [
    {
     "data": {
      "text/plain": [
       "<tf.Operation 'GradientDescent' type=NoOp>"
      ]
     },
     "execution_count": 105,
     "metadata": {},
     "output_type": "execute_result"
    }
   ],
   "source": [
    "optimizer = tf.train.GradientDescentOptimizer(0.2)\n",
    "train_step = optimizer.minimize(cross_entropy)\n",
    "\n",
    "train_step"
   ]
  },
  {
   "cell_type": "code",
   "execution_count": 106,
   "metadata": {
    "ExecuteTime": {
     "end_time": "2019-04-11T09:35:42.483465Z",
     "start_time": "2019-04-11T09:35:42.468192Z"
    }
   },
   "outputs": [],
   "source": [
    "init = tf.global_variables_initializer()\n",
    "sess.run(init)"
   ]
  },
  {
   "cell_type": "code",
   "execution_count": 111,
   "metadata": {
    "ExecuteTime": {
     "end_time": "2019-04-11T09:37:36.129001Z",
     "start_time": "2019-04-11T09:37:31.960883Z"
    },
    "scrolled": true
   },
   "outputs": [
    {
     "name": "stdout",
     "output_type": "stream",
     "text": [
      "Step #200 A = [-1.3597088]\n",
      "Loss = [[0.40889606]]\n",
      "Step #400 A = [-1.1385112]\n",
      "Loss = [[0.16639578]]\n",
      "Step #600 A = [-1.0485593]\n",
      "Loss = [[0.19310784]]\n",
      "Step #800 A = [-1.2597579]\n",
      "Loss = [[0.12714177]]\n",
      "Step #1000 A = [-1.0568511]\n",
      "Loss = [[0.3400463]]\n",
      "Step #1200 A = [-0.9829959]\n",
      "Loss = [[0.07739433]]\n",
      "Step #1400 A = [-1.1709502]\n",
      "Loss = [[0.09406897]]\n",
      "Step #1600 A = [-0.9827504]\n",
      "Loss = [[0.31055468]]\n",
      "Step #1800 A = [-1.4104009]\n",
      "Loss = [[0.25895128]]\n",
      "Step #2000 A = [-1.3877139]\n",
      "Loss = [[0.43566996]]\n",
      "Step #2200 A = [-0.94818336]\n",
      "Loss = [[0.0400643]]\n",
      "Step #2400 A = [-1.300893]\n",
      "Loss = [[0.40586096]]\n",
      "Step #2600 A = [-0.7413494]\n",
      "Loss = [[0.0300602]]\n",
      "Step #2800 A = [-1.2258171]\n",
      "Loss = [[0.39596444]]\n",
      "Step #3000 A = [-0.8849304]\n",
      "Loss = [[0.04214172]]\n",
      "Step #3200 A = [-1.0466397]\n",
      "Loss = [[0.13416554]]\n",
      "Step #3400 A = [-0.9970794]\n",
      "Loss = [[0.18425733]]\n",
      "Step #3600 A = [-1.2509118]\n",
      "Loss = [[0.06716055]]\n",
      "Step #3800 A = [-0.67531663]\n",
      "Loss = [[0.06956852]]\n",
      "Step #4000 A = [-1.1029855]\n",
      "Loss = [[0.02114464]]\n",
      "Step #4200 A = [-1.4199382]\n",
      "Loss = [[0.24818477]]\n",
      "Step #4400 A = [-1.1674399]\n",
      "Loss = [[0.25813955]]\n",
      "Step #4600 A = [-0.8333301]\n",
      "Loss = [[0.38026088]]\n",
      "Step #4800 A = [-1.112378]\n",
      "Loss = [[0.59468967]]\n",
      "Step #5000 A = [-1.1998821]\n",
      "Loss = [[0.6348642]]\n",
      "Step #5200 A = [-1.0607241]\n",
      "Loss = [[0.06834137]]\n",
      "Step #5400 A = [-1.052541]\n",
      "Loss = [[0.13307619]]\n",
      "Step #5600 A = [-1.1764612]\n",
      "Loss = [[0.21111931]]\n",
      "Step #5800 A = [-1.1896119]\n",
      "Loss = [[0.4012044]]\n",
      "Step #6000 A = [-1.0520455]\n",
      "Loss = [[0.05357267]]\n",
      "Step #6200 A = [-1.0128752]\n",
      "Loss = [[0.2722879]]\n",
      "Step #6400 A = [-0.8833469]\n",
      "Loss = [[0.20130467]]\n",
      "Step #6600 A = [-0.97742534]\n",
      "Loss = [[0.17694712]]\n",
      "Step #6800 A = [-0.95268226]\n",
      "Loss = [[0.37120357]]\n",
      "Step #7000 A = [-1.3432128]\n",
      "Loss = [[0.05891022]]\n",
      "Step #7200 A = [-1.3827837]\n",
      "Loss = [[0.20531115]]\n",
      "Step #7400 A = [-0.8998383]\n",
      "Loss = [[0.19063753]]\n",
      "Step #7600 A = [-1.3502485]\n",
      "Loss = [[0.07153365]]\n",
      "Step #7800 A = [-0.98802704]\n",
      "Loss = [[0.05135691]]\n",
      "Step #8000 A = [-1.4162679]\n",
      "Loss = [[0.05820349]]\n",
      "Step #8200 A = [-1.2397281]\n",
      "Loss = [[0.32277822]]\n",
      "Step #8400 A = [-0.9916562]\n",
      "Loss = [[0.21927299]]\n",
      "Step #8600 A = [-1.3171282]\n",
      "Loss = [[0.05743616]]\n",
      "Step #8800 A = [-0.82760435]\n",
      "Loss = [[0.05782998]]\n",
      "Step #9000 A = [-1.0471314]\n",
      "Loss = [[0.04189317]]\n",
      "Step #9200 A = [-1.1908617]\n",
      "Loss = [[0.629395]]\n",
      "Step #9400 A = [-1.1592152]\n",
      "Loss = [[0.04148705]]\n",
      "Step #9600 A = [-1.0652647]\n",
      "Loss = [[0.17422925]]\n",
      "Step #9800 A = [-0.9331913]\n",
      "Loss = [[0.18686272]]\n",
      "Step #10000 A = [-1.1116878]\n",
      "Loss = [[0.13011262]]\n"
     ]
    }
   ],
   "source": [
    "for i in range(1, 10000):\n",
    "    random_index = np.random.choice(100)\n",
    "    rand_x = [x_vals[random_index]]\n",
    "    rand_y = [y_vals[random_index]]\n",
    "\n",
    "    sess.run(train_step, feed_dict={x_data: rand_x, y_target: rand_y})\n",
    "    if (i+1) % 200 == 0:\n",
    "        print('Step #' + str(i+1) + ' A = ' + str(sess.run(A)))\n",
    "        print('Loss = ' + str(sess.run(cross_entropy,\n",
    "                                       feed_dict={x_data: rand_x, y_target: rand_y})))"
   ]
  },
  {
   "cell_type": "code",
   "execution_count": 112,
   "metadata": {
    "ExecuteTime": {
     "end_time": "2019-04-11T09:37:42.042256Z",
     "start_time": "2019-04-11T09:37:40.600174Z"
    },
    "scrolled": true
   },
   "outputs": [
    {
     "name": "stdout",
     "output_type": "stream",
     "text": [
      "Ending Accuracy = 1.0\n"
     ]
    }
   ],
   "source": [
    "predictions = []\n",
    "for i in range(len(x_vals)):\n",
    "    x_val = [x_vals[i]]\n",
    "    prediction = sess.run(tf.round(tf.sigmoid(output)),\n",
    "                          feed_dict={x_data: x_val})\n",
    "    predictions.append(prediction[0])\n",
    "\n",
    "accuracy = sum(x == y for x, y in zip(predictions, y_vals))/100.\n",
    "print('Ending Accuracy = ' + str(np.round(accuracy, 2)))"
   ]
  }
 ],
 "metadata": {
  "kernelspec": {
   "display_name": "Python 3",
   "language": "python",
   "name": "python3"
  },
  "language_info": {
   "codemirror_mode": {
    "name": "ipython",
    "version": 3
   },
   "file_extension": ".py",
   "mimetype": "text/x-python",
   "name": "python",
   "nbconvert_exporter": "python",
   "pygments_lexer": "ipython3",
   "version": "3.6.8"
  }
 },
 "nbformat": 4,
 "nbformat_minor": 2
}
