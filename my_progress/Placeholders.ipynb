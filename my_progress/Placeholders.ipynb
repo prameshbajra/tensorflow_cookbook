{
 "cells": [
  {
   "cell_type": "code",
   "execution_count": 4,
   "metadata": {
    "ExecuteTime": {
     "end_time": "2019-03-14T13:24:14.602332Z",
     "start_time": "2019-03-14T13:24:14.592610Z"
    }
   },
   "outputs": [],
   "source": [
    "import tensorflow as tf\n",
    "import numpy as np\n",
    "from tensorflow.python.framework import ops\n",
    "ops.reset_default_graph()"
   ]
  },
  {
   "cell_type": "code",
   "execution_count": 5,
   "metadata": {
    "ExecuteTime": {
     "end_time": "2019-03-14T13:24:14.819150Z",
     "start_time": "2019-03-14T13:24:14.812182Z"
    }
   },
   "outputs": [],
   "source": [
    "session = tf.Session()"
   ]
  },
  {
   "cell_type": "code",
   "execution_count": 16,
   "metadata": {
    "ExecuteTime": {
     "end_time": "2019-03-14T13:39:01.784537Z",
     "start_time": "2019-03-14T13:39:01.770523Z"
    }
   },
   "outputs": [
    {
     "name": "stdout",
     "output_type": "stream",
     "text": [
      "[[0.04039098 0.92427844 0.7606509  0.9720829  0.62342715]\n",
      " [0.09605772 0.5951781  0.8655578  0.20076889 0.6939489 ]\n",
      " [0.54835254 0.89787906 0.8478224  0.21246284 0.7317443 ]\n",
      " [0.2799177  0.52950394 0.866879   0.7152216  0.88694257]\n",
      " [0.08323628 0.6861969  0.47797188 0.86954165 0.7673416 ]]\n"
     ]
    }
   ],
   "source": [
    "palceholder = tf.placeholder(tf.float32, shape=[5, 5])\n",
    "\n",
    "y = tf.identity(palceholder)\n",
    "\n",
    "print(session.run(y, feed_dict={palceholder: np.random.rand(5, 5)}))"
   ]
  },
  {
   "cell_type": "code",
   "execution_count": 17,
   "metadata": {
    "ExecuteTime": {
     "end_time": "2019-03-14T13:39:02.024619Z",
     "start_time": "2019-03-14T13:39:02.021702Z"
    }
   },
   "outputs": [],
   "source": [
    "merger = tf.summary.merge_all()"
   ]
  },
  {
   "cell_type": "code",
   "execution_count": 18,
   "metadata": {
    "ExecuteTime": {
     "end_time": "2019-03-14T13:39:02.510715Z",
     "start_time": "2019-03-14T13:39:02.503098Z"
    }
   },
   "outputs": [],
   "source": [
    "writer = tf.summary.FileWriter(\"./logs/vars\", session.graph)"
   ]
  },
  {
   "cell_type": "markdown",
   "metadata": {},
   "source": [
    "## Matrix:\n",
    "\n",
    "- Aheley samma thapako aanusar yo affai constant huncha, so initializer garrna parrdaina !!\n",
    " \n"
   ]
  },
  {
   "cell_type": "code",
   "execution_count": 20,
   "metadata": {
    "ExecuteTime": {
     "end_time": "2019-03-15T05:42:04.253067Z",
     "start_time": "2019-03-15T05:42:04.209991Z"
    }
   },
   "outputs": [
    {
     "name": "stdout",
     "output_type": "stream",
     "text": [
      "[[5. 5. 5.]\n",
      " [5. 5. 5.]]\n"
     ]
    }
   ],
   "source": [
    "mat_A = tf.fill([2,3], 5.0)\n",
    "print(session.run(mat_A))"
   ]
  },
  {
   "cell_type": "code",
   "execution_count": 26,
   "metadata": {
    "ExecuteTime": {
     "end_time": "2019-03-15T05:53:22.896075Z",
     "start_time": "2019-03-15T05:53:22.878497Z"
    }
   },
   "outputs": [
    {
     "name": "stdout",
     "output_type": "stream",
     "text": [
      "This is a numpy array [[0.65882839 0.90919824 0.52627116]\n",
      " [0.60526379 0.84891439 0.07121513]\n",
      " [0.20157051 0.94636524 0.65256484]]\n",
      "This is a tensor arey !! [[0.65882839 0.90919824 0.52627116]\n",
      " [0.60526379 0.84891439 0.07121513]\n",
      " [0.20157051 0.94636524 0.65256484]] \n"
     ]
    }
   ],
   "source": [
    "numpy_array = np.random.rand(3, 3)\n",
    "print(\"This is a numpy array {}\".format(numpy_array))\n",
    "tensor = tf.convert_to_tensor(numpy_array)\n",
    "\n",
    "print(\"This is a tensor arey !! {} \".format(session.run(tensor)))"
   ]
  },
  {
   "cell_type": "code",
   "execution_count": null,
   "metadata": {},
   "outputs": [],
   "source": []
  }
 ],
 "metadata": {
  "kernelspec": {
   "display_name": "Python 3",
   "language": "python",
   "name": "python3"
  },
  "language_info": {
   "codemirror_mode": {
    "name": "ipython",
    "version": 3
   },
   "file_extension": ".py",
   "mimetype": "text/x-python",
   "name": "python",
   "nbconvert_exporter": "python",
   "pygments_lexer": "ipython3",
   "version": "3.6.8"
  }
 },
 "nbformat": 4,
 "nbformat_minor": 2
}
