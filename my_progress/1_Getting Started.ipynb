{
 "cells": [
  {
   "cell_type": "code",
   "execution_count": null,
   "metadata": {
    "ExecuteTime": {
     "end_time": "2019-03-13T11:10:32.576252Z",
     "start_time": "2019-03-13T11:10:32.572778Z"
    }
   },
   "outputs": [],
   "source": [
    "import tensorflow as tf\n",
    "tf.enable_eager_execution()"
   ]
  },
  {
   "cell_type": "code",
   "execution_count": null,
   "metadata": {
    "ExecuteTime": {
     "end_time": "2019-03-13T11:10:32.617898Z",
     "start_time": "2019-03-13T11:10:32.579631Z"
    }
   },
   "outputs": [],
   "source": [
    "var_tensor = tf.Variable([7,3,6,3])\n",
    "const_tensor = tf.constant([1,9,7,3])\n",
    "\n",
    "added_tensor = tf.add(var_tensor, const_tensor)\n",
    "\n",
    "added_tensor"
   ]
  },
  {
   "cell_type": "markdown",
   "metadata": {},
   "source": [
    "## Eager Execution Ma Yessto Garrna Parrdaina.\n",
    "#### Mathi ko code ra tala ko code chuttai run garrney. Kernel restart garrna parrcha!!"
   ]
  },
  {
   "cell_type": "code",
   "execution_count": 13,
   "metadata": {
    "ExecuteTime": {
     "end_time": "2019-03-13T12:36:03.516003Z",
     "start_time": "2019-03-13T12:36:03.508654Z"
    }
   },
   "outputs": [],
   "source": [
    "import tensorflow as tf\n",
    "from tensorflow.python.framework import ops\n",
    "ops.reset_default_graph()"
   ]
  },
  {
   "cell_type": "code",
   "execution_count": 14,
   "metadata": {
    "ExecuteTime": {
     "end_time": "2019-03-13T12:36:03.971617Z",
     "start_time": "2019-03-13T12:36:03.968057Z"
    }
   },
   "outputs": [],
   "source": [
    "session = tf.Session()"
   ]
  },
  {
   "cell_type": "code",
   "execution_count": 15,
   "metadata": {
    "ExecuteTime": {
     "end_time": "2019-03-13T12:36:04.505199Z",
     "start_time": "2019-03-13T12:36:04.482305Z"
    }
   },
   "outputs": [
    {
     "name": "stdout",
     "output_type": "stream",
     "text": [
      "The added tensor computational graph Tensor(\"Add:0\", shape=(4,), dtype=int32)\n",
      "The added tensor in real result [ 6  8 10 12]\n"
     ]
    }
   ],
   "source": [
    "variable_tensor = tf.Variable([1,2,3,4])\n",
    "constant_tensor = tf.constant([5,6,7,8])\n",
    "session.run(variable_tensor.initializer)\n",
    "\n",
    "added_tensor = tf.add(variable_tensor, constant_tensor)\n",
    "print(\"The added tensor computational graph {}\".format(added_tensor))\n",
    "\n",
    "print(\"The added tensor in real result {}\".format(session.run(added_tensor)))"
   ]
  },
  {
   "cell_type": "code",
   "execution_count": 16,
   "metadata": {
    "ExecuteTime": {
     "end_time": "2019-03-13T12:36:04.979420Z",
     "start_time": "2019-03-13T12:36:04.961729Z"
    }
   },
   "outputs": [
    {
     "data": {
      "text/plain": [
       "array([[19, 19, 19],\n",
       "       [19, 19, 19],\n",
       "       [19, 19, 19]], dtype=int32)"
      ]
     },
     "execution_count": 16,
     "metadata": {},
     "output_type": "execute_result"
    }
   ],
   "source": [
    "custom_filled_tensor = tf.Variable(tf.fill([3, 3], 19))\n",
    "session.run(custom_filled_tensor.initializer)\n",
    "custom_tensor = session.run(custom_filled_tensor)\n",
    "custom_tensor"
   ]
  },
  {
   "cell_type": "code",
   "execution_count": 17,
   "metadata": {
    "ExecuteTime": {
     "end_time": "2019-03-13T12:36:05.443899Z",
     "start_time": "2019-03-13T12:36:05.424828Z"
    }
   },
   "outputs": [
    {
     "data": {
      "text/plain": [
       "array([[1, 1, 1],\n",
       "       [1, 1, 1],\n",
       "       [1, 1, 1]], dtype=int32)"
      ]
     },
     "execution_count": 17,
     "metadata": {},
     "output_type": "execute_result"
    }
   ],
   "source": [
    "mimic_tensor = tf.Variable(tf.ones_like(custom_tensor))\n",
    "session.run(mimic_tensor.initializer)\n",
    "mimic_ten = session.run(mimic_tensor)\n",
    "mimic_ten"
   ]
  },
  {
   "cell_type": "markdown",
   "metadata": {},
   "source": [
    "### Tensorboard in Action\n"
   ]
  },
  {
   "cell_type": "code",
   "execution_count": 25,
   "metadata": {
    "ExecuteTime": {
     "end_time": "2019-03-13T13:07:23.327443Z",
     "start_time": "2019-03-13T13:07:23.288247Z"
    }
   },
   "outputs": [
    {
     "name": "stdout",
     "output_type": "stream",
     "text": [
      "Tensor(\"Mul:0\", shape=(2,), dtype=int32)\n"
     ]
    }
   ],
   "source": [
    "ops.reset_default_graph()\n",
    "\n",
    "session = tf.Session()\n",
    "\n",
    "var_one = tf.Variable([5, 5])\n",
    "var_two = tf.Variable([10,10])\n",
    "\n",
    "mul_one_two = tf.multiply(var_one, var_two)\n",
    "\n",
    "print(mul_one_two)\n",
    "\n",
    "merged = tf.summary.merge_all()\n",
    "\n",
    "writer = tf.summary.FileWriter(\"./logs/vars\", graph=session.graph)\n",
    "\n",
    "init_op = tf.global_variables_initializer()\n",
    "\n",
    "session.run(init_op)"
   ]
  },
  {
   "cell_type": "code",
   "execution_count": null,
   "metadata": {},
   "outputs": [],
   "source": []
  }
 ],
 "metadata": {
  "kernelspec": {
   "display_name": "Python 3",
   "language": "python",
   "name": "python3"
  },
  "language_info": {
   "codemirror_mode": {
    "name": "ipython",
    "version": 3
   },
   "file_extension": ".py",
   "mimetype": "text/x-python",
   "name": "python",
   "nbconvert_exporter": "python",
   "pygments_lexer": "ipython3",
   "version": "3.6.8"
  }
 },
 "nbformat": 4,
 "nbformat_minor": 2
}
