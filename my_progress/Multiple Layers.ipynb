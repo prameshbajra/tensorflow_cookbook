{
 "cells": [
  {
   "cell_type": "code",
   "execution_count": 48,
   "metadata": {
    "ExecuteTime": {
     "end_time": "2019-03-26T12:54:57.130400Z",
     "start_time": "2019-03-26T12:54:57.120780Z"
    }
   },
   "outputs": [],
   "source": [
    "import matplotlib.pyplot as plt\n",
    "import numpy as np\n",
    "import tensorflow as tf\n",
    "import os\n",
    "from tensorflow.python.framework import ops\n",
    "ops.reset_default_graph()"
   ]
  },
  {
   "cell_type": "code",
   "execution_count": 49,
   "metadata": {
    "ExecuteTime": {
     "end_time": "2019-03-26T12:54:57.489253Z",
     "start_time": "2019-03-26T12:54:57.485391Z"
    }
   },
   "outputs": [],
   "source": [
    "sess = tf.Session()\n",
    "custom_layer1 = \"\""
   ]
  },
  {
   "cell_type": "code",
   "execution_count": 50,
   "metadata": {
    "ExecuteTime": {
     "end_time": "2019-03-26T12:54:57.841518Z",
     "start_time": "2019-03-26T12:54:57.836765Z"
    }
   },
   "outputs": [],
   "source": [
    "x_shape = [1, 4, 4, 1]\n",
    "x_val = np.random.uniform(size=x_shape)\n",
    "\n",
    "x_data = tf.placeholder(tf.float32, shape=x_shape)"
   ]
  },
  {
   "cell_type": "code",
   "execution_count": 51,
   "metadata": {
    "ExecuteTime": {
     "end_time": "2019-03-26T12:54:58.309680Z",
     "start_time": "2019-03-26T12:54:58.302416Z"
    }
   },
   "outputs": [],
   "source": [
    "tfilter = tf.constant(0.25, shape=[2, 2, 1, 1])\n",
    "tshifter = [1, 2 , 2, 1]\n",
    "\n",
    "moving_average_layer = tf.nn.conv2d(x_data, tfilter, tshifter, padding=\"SAME\", name=\"moving_average_window\")"
   ]
  },
  {
   "cell_type": "code",
   "execution_count": 55,
   "metadata": {
    "ExecuteTime": {
     "end_time": "2019-03-26T12:55:29.322317Z",
     "start_time": "2019-03-26T12:55:29.313336Z"
    }
   },
   "outputs": [
    {
     "data": {
      "text/plain": [
       "<tf.Tensor 'moving_average_window:0' shape=(1, 2, 2, 1) dtype=float32>"
      ]
     },
     "execution_count": 55,
     "metadata": {},
     "output_type": "execute_result"
    }
   ],
   "source": [
    "moving_average_layer"
   ]
  },
  {
   "cell_type": "code",
   "execution_count": 52,
   "metadata": {
    "ExecuteTime": {
     "end_time": "2019-03-26T12:54:58.857111Z",
     "start_time": "2019-03-26T12:54:58.830196Z"
    }
   },
   "outputs": [],
   "source": [
    "def custom_layer(input_matrix):\n",
    "    global custom_layer1\n",
    "    input_matrix_sqeezed = tf.squeeze(input_matrix)\n",
    "    A = tf.constant([[1., 2.], [-1., 3.]])\n",
    "    b = tf.constant(1., shape=[2, 2])\n",
    "    temp1 = tf.matmul(A, input_matrix_sqeezed)\n",
    "    temp = tf.add(temp1, b) # Ax + b\n",
    "    return(tf.sigmoid(temp))\n",
    "\n",
    "# Add custom layer to graph\n",
    "with tf.name_scope('Custom_Layer') as scope:\n",
    "    custom_layer1 = custom_layer(moving_average_layer)"
   ]
  },
  {
   "cell_type": "code",
   "execution_count": 53,
   "metadata": {
    "ExecuteTime": {
     "end_time": "2019-03-26T12:54:59.754340Z",
     "start_time": "2019-03-26T12:54:59.743917Z"
    }
   },
   "outputs": [
    {
     "name": "stdout",
     "output_type": "stream",
     "text": [
      "[[[[0.52048814]\n",
      "   [0.47736374]]\n",
      "\n",
      "  [[0.4760186 ]\n",
      "   [0.20464832]]]]\n"
     ]
    }
   ],
   "source": [
    "print(sess.run(moving_average_layer, feed_dict={x_data: x_val}))"
   ]
  },
  {
   "cell_type": "code",
   "execution_count": 56,
   "metadata": {
    "ExecuteTime": {
     "end_time": "2019-03-26T12:59:31.622506Z",
     "start_time": "2019-03-26T12:59:31.615771Z"
    }
   },
   "outputs": [
    {
     "name": "stdout",
     "output_type": "stream",
     "text": [
      "[[0.9221931 0.8683742]\n",
      " [0.8707456 0.7570514]]\n"
     ]
    }
   ],
   "source": [
    "print(sess.run(custom_layer1, feed_dict={x_data: x_val}))"
   ]
  },
  {
   "cell_type": "code",
   "execution_count": 57,
   "metadata": {
    "ExecuteTime": {
     "end_time": "2019-03-26T12:59:34.637457Z",
     "start_time": "2019-03-26T12:59:34.623603Z"
    }
   },
   "outputs": [],
   "source": [
    "merged = tf.summary.merge_all(key='summaries')\n",
    "\n",
    "if not os.path.exists('tensorboard_logs/'):\n",
    "    os.makedirs('tensorboard_logs/')\n",
    "\n",
    "my_writer = tf.summary.FileWriter('tensorboard_logs/', sess.graph)"
   ]
  }
 ],
 "metadata": {
  "kernelspec": {
   "display_name": "Python 3",
   "language": "python",
   "name": "python3"
  },
  "language_info": {
   "codemirror_mode": {
    "name": "ipython",
    "version": 3
   },
   "file_extension": ".py",
   "mimetype": "text/x-python",
   "name": "python",
   "nbconvert_exporter": "python",
   "pygments_lexer": "ipython3",
   "version": "3.6.8"
  }
 },
 "nbformat": 4,
 "nbformat_minor": 2
}
