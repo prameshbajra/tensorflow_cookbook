{
 "cells": [
  {
   "cell_type": "code",
   "execution_count": 1,
   "metadata": {
    "ExecuteTime": {
     "end_time": "2019-04-09T13:37:56.655204Z",
     "start_time": "2019-04-09T13:37:55.064535Z"
    }
   },
   "outputs": [],
   "source": [
    "import tensorflow as tf\n",
    "import numpy as np"
   ]
  },
  {
   "cell_type": "code",
   "execution_count": 4,
   "metadata": {
    "ExecuteTime": {
     "end_time": "2019-04-09T13:41:56.924236Z",
     "start_time": "2019-04-09T13:41:56.915899Z"
    }
   },
   "outputs": [],
   "source": [
    "x_vals = np.array([[1, 2, 3], [4, 5, 6], [7, 8, 9]])\n",
    "\n",
    "c_vals = np.array([[1, 0, 0], [0, 1, 0], [0, 0, 1]])\n",
    "\n",
    "m_vals = np.array([[1, 0, 0], [0, 1, 0], [0, 0, 1]])"
   ]
  },
  {
   "cell_type": "code",
   "execution_count": 6,
   "metadata": {
    "ExecuteTime": {
     "end_time": "2019-04-09T13:42:18.338383Z",
     "start_time": "2019-04-09T13:42:18.307946Z"
    }
   },
   "outputs": [],
   "source": [
    "session = tf.Session()"
   ]
  },
  {
   "cell_type": "code",
   "execution_count": 7,
   "metadata": {
    "ExecuteTime": {
     "end_time": "2019-04-09T13:47:19.672812Z",
     "start_time": "2019-04-09T13:47:19.637017Z"
    }
   },
   "outputs": [],
   "source": [
    "x_data = tf.placeholder(tf.float32, shape=(3, 3))\n",
    "c_data = tf.placeholder(tf.float32, shape=(3, 3))\n",
    "m_data = tf.placeholder(tf.float32, shape=(3, 3))"
   ]
  },
  {
   "cell_type": "code",
   "execution_count": 8,
   "metadata": {
    "ExecuteTime": {
     "end_time": "2019-04-09T13:48:07.246627Z",
     "start_time": "2019-04-09T13:48:07.235107Z"
    }
   },
   "outputs": [],
   "source": [
    "y_data = tf.add(tf.multiply(m_data, x_data), c_data)"
   ]
  },
  {
   "cell_type": "code",
   "execution_count": 9,
   "metadata": {
    "ExecuteTime": {
     "end_time": "2019-04-09T13:49:23.969427Z",
     "start_time": "2019-04-09T13:49:23.936195Z"
    }
   },
   "outputs": [
    {
     "name": "stdout",
     "output_type": "stream",
     "text": [
      "[[ 2.  0.  0.]\n",
      " [ 0.  6.  0.]\n",
      " [ 0.  0. 10.]]\n"
     ]
    }
   ],
   "source": [
    "sess_result = session.run(y_data, feed_dict={m_data: m_vals, x_data: x_vals, c_data: c_vals})\n",
    "print(sess_result)"
   ]
  }
 ],
 "metadata": {
  "kernelspec": {
   "display_name": "Python 3",
   "language": "python",
   "name": "python3"
  },
  "language_info": {
   "codemirror_mode": {
    "name": "ipython",
    "version": 3
   },
   "file_extension": ".py",
   "mimetype": "text/x-python",
   "name": "python",
   "nbconvert_exporter": "python",
   "pygments_lexer": "ipython3",
   "version": "3.6.8"
  }
 },
 "nbformat": 4,
 "nbformat_minor": 2
}
